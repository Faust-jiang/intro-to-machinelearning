{
 "cells": [
  {
   "cell_type": "markdown",
   "id": "f16163d2dd773fbc",
   "metadata": {},
   "source": [
    "# Task 3\n",
    "This serves as a template which will guide you through the implementation of this task. It is advised to first read the whole template and get a sense of the overall structure of the code before trying to fill in any of the TODO gaps.\n",
    "This is the jupyter notebook version of the template. For the python file version, please refer to the file `template_solution.py`."
   ]
  },
  {
   "cell_type": "markdown",
   "id": "c95f1a3a9db8e3f9",
   "metadata": {},
   "source": [
    "First, we import necessary libraries:"
   ]
  },
  {
   "cell_type": "code",
   "execution_count": 6,
   "id": "3d7256b3",
   "metadata": {},
   "outputs": [
    {
     "name": "stdout",
     "output_type": "stream",
     "text": [
      "Requirement already satisfied: torch==2.2.2 in c:\\users\\excelsior\\anaconda3\\lib\\site-packages (2.2.2)\n",
      "Requirement already satisfied: filelock in c:\\users\\excelsior\\anaconda3\\lib\\site-packages (from torch==2.2.2) (3.9.0)\n",
      "Requirement already satisfied: typing-extensions>=4.8.0 in c:\\users\\excelsior\\anaconda3\\lib\\site-packages (from torch==2.2.2) (4.11.0)\n",
      "Requirement already satisfied: jinja2 in c:\\users\\excelsior\\anaconda3\\lib\\site-packages (from torch==2.2.2) (3.1.2)\n",
      "Requirement already satisfied: fsspec in c:\\users\\excelsior\\anaconda3\\lib\\site-packages (from torch==2.2.2) (2022.11.0)\n",
      "Requirement already satisfied: networkx in c:\\users\\excelsior\\anaconda3\\lib\\site-packages (from torch==2.2.2) (2.8.4)\n",
      "Requirement already satisfied: sympy in c:\\users\\excelsior\\anaconda3\\lib\\site-packages (from torch==2.2.2) (1.11.1)\n",
      "Requirement already satisfied: MarkupSafe>=2.0 in c:\\users\\excelsior\\anaconda3\\lib\\site-packages (from jinja2->torch==2.2.2) (2.1.1)\n",
      "Requirement already satisfied: mpmath>=0.19 in c:\\users\\excelsior\\anaconda3\\lib\\site-packages (from sympy->torch==2.2.2) (1.2.1)\n",
      "Collecting torchvision==0.13.1\n",
      "  Downloading torchvision-0.13.1-cp310-cp310-win_amd64.whl (1.1 MB)\n",
      "     ---------------------------------------- 1.1/1.1 MB 2.3 MB/s eta 0:00:00\n",
      "Collecting torch==1.12.1\n",
      "  Downloading torch-1.12.1-cp310-cp310-win_amd64.whl (162.2 MB)\n",
      "     -------------------------------------- 162.2/162.2 MB 2.2 MB/s eta 0:00:00\n",
      "Requirement already satisfied: requests in c:\\users\\excelsior\\anaconda3\\lib\\site-packages (from torchvision==0.13.1) (2.28.1)\n",
      "Requirement already satisfied: pillow!=8.3.*,>=5.3.0 in c:\\users\\excelsior\\anaconda3\\lib\\site-packages (from torchvision==0.13.1) (9.4.0)\n",
      "Requirement already satisfied: numpy in c:\\users\\excelsior\\anaconda3\\lib\\site-packages (from torchvision==0.13.1) (1.23.5)\n",
      "Requirement already satisfied: typing-extensions in c:\\users\\excelsior\\anaconda3\\lib\\site-packages (from torchvision==0.13.1) (4.11.0)\n",
      "Requirement already satisfied: idna<4,>=2.5 in c:\\users\\excelsior\\anaconda3\\lib\\site-packages (from requests->torchvision==0.13.1) (3.4)\n",
      "Requirement already satisfied: charset-normalizer<3,>=2 in c:\\users\\excelsior\\anaconda3\\lib\\site-packages (from requests->torchvision==0.13.1) (2.0.4)\n",
      "Requirement already satisfied: certifi>=2017.4.17 in c:\\users\\excelsior\\anaconda3\\lib\\site-packages (from requests->torchvision==0.13.1) (2022.12.7)\n",
      "Requirement already satisfied: urllib3<1.27,>=1.21.1 in c:\\users\\excelsior\\anaconda3\\lib\\site-packages (from requests->torchvision==0.13.1) (1.26.14)\n",
      "Installing collected packages: torch, torchvision\n",
      "  Attempting uninstall: torch\n",
      "    Found existing installation: torch 2.2.2\n",
      "    Uninstalling torch-2.2.2:\n",
      "      Successfully uninstalled torch-2.2.2\n",
      "Successfully installed torch-1.12.1 torchvision-0.13.1\n"
     ]
    }
   ],
   "source": [
    "!pip install torch==2.2.2\n",
    "!pip install torchvision==0.13.1"
   ]
  },
  {
   "cell_type": "code",
   "execution_count": 29,
   "id": "824a840beb8b323e",
   "metadata": {},
   "outputs": [],
   "source": [
    "import numpy as np\n",
    "from torchvision import transforms\n",
    "from torch.utils.data import DataLoader, TensorDataset\n",
    "import os\n",
    "import torch\n",
    "from torchvision import models, transforms\n",
    "import torchvision.datasets as datasets\n",
    "import torch.nn as nn\n",
    "import torch.nn.functional as F\n",
    "from tqdm import tqdm\n",
    "import torch.optim as optim\n",
    "from torchvision.models import resnet18, ResNet18_Weights\n",
    "# Add any other imports you need here"
   ]
  },
  {
   "cell_type": "code",
   "execution_count": 9,
   "id": "82adb41ca8c23be6",
   "metadata": {},
   "outputs": [
    {
     "name": "stdout",
     "output_type": "stream",
     "text": [
      "cpu\n"
     ]
    }
   ],
   "source": [
    "# The device is automatically set to GPU if available, otherwise CPU\n",
    "# If you want to force the device to CPU, you can change the line to\n",
    "# device = torch.device(\"cpu\")\n",
    "# When using the GPU, it is important that your model and all data are on the \n",
    "# same device.\n",
    "device = torch.device(\"cuda:0\" if torch.cuda.is_available() else \"cpu\")\n",
    "print(device)"
   ]
  },
  {
   "cell_type": "code",
   "execution_count": 78,
   "id": "8ef92b18",
   "metadata": {},
   "outputs": [],
   "source": [
    "\"\"\"\n",
    "Transform, resize and normalize the images and then use a pretrained model to extract \n",
    "the embeddings.\n",
    "\"\"\"\n",
    "# TODO: define a transform to pre-process the images\n",
    "# The required pre-processing depends on the pre-trained model you choose \n",
    "# below. \n",
    "# See https://pytorch.org/vision/stable/models.html#using-the-pre-trained-models\n",
    "train_transforms = transforms.Compose([\n",
    "    transforms.Resize(256),\n",
    "    transforms.CenterCrop(224),\n",
    "    transforms.ToTensor(),\n",
    "    transforms.Normalize(mean=[0.485, 0.456, 0.406], std=[0.229, 0.224, 0.225]),\n",
    "])\n",
    "\n",
    "train_dataset = datasets.ImageFolder(root=\"dataset/\", transform=train_transforms)\n",
    "#input_batch = train_dataset.unsqueeze(0)\n",
    "\n",
    "\n",
    "# Hint: adjust batch_size and num_workers to your PC configuration, so that you don't \n",
    "# run out of memory (VRAM if on GPU, RAM if on CPU)\n",
    "batchsize=50\n",
    "train_loader = DataLoader(dataset=train_dataset,\n",
    "                          batch_size=batchsize,\n",
    "                          shuffle=False,\n",
    "                          pin_memory=True, num_workers=4)\n",
    "\n",
    "# TODO: define a model for extraction of the embeddings (Hint: load a pretrained model,\n",
    "# more info here: https://pytorch.org/vision/stable/models.html)\n"
   ]
  },
  {
   "cell_type": "code",
   "execution_count": 79,
   "id": "f76d7227",
   "metadata": {},
   "outputs": [
    {
     "name": "stderr",
     "output_type": "stream",
     "text": [
      "Downloading: \"https://download.pytorch.org/models/resnet50-11ad3fa6.pth\" to C:\\Users\\excelsior/.cache\\torch\\hub\\checkpoints\\resnet50-11ad3fa6.pth\n"
     ]
    },
    {
     "data": {
      "application/vnd.jupyter.widget-view+json": {
       "model_id": "8af34278175643febac1ec2ee902671b",
       "version_major": 2,
       "version_minor": 0
      },
      "text/plain": [
       "  0%|          | 0.00/97.8M [00:00<?, ?B/s]"
      ]
     },
     "metadata": {},
     "output_type": "display_data"
    },
    {
     "name": "stdout",
     "output_type": "stream",
     "text": [
      "2048\n"
     ]
    }
   ],
   "source": [
    "#model = nn.Module()\n",
    "model=models.resnet50(weights=ResNet50_Weights.DEFAULT)\n",
    "model.to(device)\n",
    "model = torch.nn.Sequential(*list(model.children())[:-1])\n",
    "\n",
    "#embedding_size = 1000 # Dummy variable, replace with the actual embedding size once you \n",
    "# pick your model\n",
    "\n",
    "#determine embedding size\n",
    "x=train_dataset[0][0].unsqueeze(0)\n",
    "with torch.no_grad():\n",
    "    embedding_size = model(x).squeeze().numpy().shape[0]\n",
    "    print(embedding_size)\n",
    "num_images = len(train_dataset)\n",
    "embeddings = np.zeros((num_images, embedding_size))\n",
    "# TODO: Use the model to extract the embeddings. Hint: remove the last layers of the \n",
    "# model to access the embeddings the model generates. "
   ]
  },
  {
   "cell_type": "code",
   "execution_count": 80,
   "id": "6b3d5c760c9c963b",
   "metadata": {},
   "outputs": [
    {
     "name": "stderr",
     "output_type": "stream",
     "text": [
      "100%|██████████| 200/200 [10:11<00:00,  3.06s/it]\n"
     ]
    }
   ],
   "source": [
    "with torch.no_grad():\n",
    "      model.eval()\n",
    "      model.to(device)\n",
    "      for batch_index, (X,_) in enumerate(tqdm(train_loader)):\n",
    "        X = X.to(device)\n",
    "        yp = model(X)\n",
    "        yp = yp.squeeze().cpu().numpy()\n",
    "        #start = batch_id*train_loader.batch_size\n",
    "        #end = (batch_id + 1)*train_loader.batch_size\n",
    "        #embeddings = [start:end, :] = yp\n",
    "        embeddings[batch_index*train_loader.batch_size:(batch_index+1)*train_loader.batch_size,:] = yp\n",
    "np.save('dataset/embeddings.npy', embeddings)"
   ]
  },
  {
   "cell_type": "code",
   "execution_count": 81,
   "id": "335d91cc379d4f6b",
   "metadata": {},
   "outputs": [],
   "source": [
    "def get_data(file, train=True):\n",
    "    \"\"\"\n",
    "    Load the triplets from the file and generate the features and labels.\n",
    "\n",
    "    input: file: string, the path to the file containing the triplets\n",
    "          train: boolean, whether the data is for training or testing\n",
    "\n",
    "    output: X: numpy array, the features\n",
    "            y: numpy array, the labels\n",
    "    \"\"\"\n",
    "    triplets = []\n",
    "    with open(file) as f:\n",
    "        for line in f:\n",
    "            triplets.append(line)\n",
    "\n",
    "    # generate training data from triplets\n",
    "    train_dataset = datasets.ImageFolder(root=\"dataset/\",\n",
    "                                         transform=None)\n",
    "    filenames = [s[0].split('\\\\')[-1].replace('.jpg', '') for s in train_dataset.samples]\n",
    "    embeddings = np.load('dataset/embeddings.npy')\n",
    "    \n",
    "\n",
    "    # TODO: Normalize the embeddings\n",
    "    embeddings= (embeddings-np.mean(embeddings))/np.std(embeddings)\n",
    "    print(embeddings.shape)\n",
    "    \n",
    "    file_to_embedding = {} \n",
    "    for i in range(len(filenames)):\n",
    "        file_to_embedding[filenames[i]] = embeddings[i]\n",
    "    X = []\n",
    "    y = []\n",
    "    \n",
    "    # use the individual embeddings to generate the features and labels for triplets\n",
    "    for t in triplets:\n",
    "        emb = [file_to_embedding[a] for a in t.split()]\n",
    "        X.append(np.hstack([emb[0], emb[1], emb[2]]))\n",
    "        y.append(1)\n",
    "        # Generating negative samples (data augmentation)\n",
    "        if train:\n",
    "            X.append(np.hstack([emb[0], emb[2], emb[1]]))\n",
    "            y.append(0)\n",
    "    X = np.vstack(X)\n",
    "    y = np.hstack(y)\n",
    "    return X, y"
   ]
  },
  {
   "cell_type": "markdown",
   "id": "abc48f07a1c0c478",
   "metadata": {},
   "source": [
    "Hint: adjust batch_size and num_workers to your PC configuration, so that you don't run out of memory (VRAM if on GPU, RAM if on CPU)"
   ]
  },
  {
   "cell_type": "code",
   "execution_count": 82,
   "id": "6daf836a4adb0abe",
   "metadata": {},
   "outputs": [],
   "source": [
    "def create_loader_from_np(X, y = None, train = True, batch_size=32, shuffle=True, num_workers = 4):\n",
    "    \"\"\"\n",
    "    Create a torch.utils.data.DataLoader object from numpy arrays containing the data.\n",
    "\n",
    "    input: X: numpy array, the features\n",
    "           y: numpy array, the labels\n",
    "    \n",
    "    output: loader: torch.data.util.DataLoader, the object containing the data\n",
    "    \"\"\"\n",
    "    if train:\n",
    "        # Attention: If you get type errors you can modify the type of the\n",
    "        # labels here\n",
    "        dataset = TensorDataset(torch.from_numpy(X).type(torch.float), \n",
    "                                torch.from_numpy(y).type(torch.long))\n",
    "    else:\n",
    "        dataset = TensorDataset(torch.from_numpy(X).type(torch.float))\n",
    "    loader = DataLoader(dataset=dataset,\n",
    "                        batch_size=batch_size,\n",
    "                        shuffle=shuffle,\n",
    "                        pin_memory=True, num_workers=num_workers)\n",
    "    return loader"
   ]
  },
  {
   "cell_type": "markdown",
   "id": "e1baa5918f11a049",
   "metadata": {},
   "source": [
    "TODO: define a model. Here, the basic structure is defined, but you need to fill in the details"
   ]
  },
  {
   "cell_type": "code",
   "execution_count": 88,
   "id": "fcd11318eb7b9488",
   "metadata": {},
   "outputs": [],
   "source": [
    "class Net(nn.Module):\n",
    "    \"\"\"\n",
    "    The model class, which defines our classifier.\n",
    "    \"\"\"\n",
    "    def __init__(self):\n",
    "        \"\"\"\n",
    "        The constructor of the model.\n",
    "        \"\"\"\n",
    "        super().__init__()\n",
    "        self.fc1 = nn.Linear(embedding_size*3, 2048)\n",
    "        self.fc2=nn.Linear(4096,2048)\n",
    "        self.fc=nn.Linear(2048,4096)\n",
    "        self.fc4=nn.Linear(2048,1)\n",
    "        self.dropout = nn.Dropout(0.2)\n",
    "        \n",
    "    def forward(self, x):\n",
    "        \"\"\"\n",
    "        The forward pass of the model.\n",
    "\n",
    "        input: x: torch.Tensor, the input to the model\n",
    "\n",
    "        output: x: torch.Tensor, the output of the model\n",
    "        \"\"\"\n",
    "        x = self.fc1(x)\n",
    "        x = torch.sigmoid(x)\n",
    "        x = self.dropout(x)\n",
    "        #x = self.fc(x)\n",
    "        #x=self.dropout(x)\n",
    "        #x=self.fc2(x)\n",
    "        #x = F.sigmoid(x)\n",
    "        x=self.fc4(x)\n",
    "        x = torch.sigmoid(x)\n",
    "        return x"
   ]
  },
  {
   "cell_type": "code",
   "execution_count": 84,
   "id": "6e1b0092e0b13f88",
   "metadata": {},
   "outputs": [
    {
     "name": "stdout",
     "output_type": "stream",
     "text": [
      "(10000, 2048)\n"
     ]
    }
   ],
   "source": [
    "TRAIN_TRIPLETS = 'train_triplets.txt'\n",
    "\n",
    "# load the training data\n",
    "X, y = get_data(TRAIN_TRIPLETS)\n",
    "# Create data loaders for the training data\n",
    "train_loader = create_loader_from_np(X, y, train = True, batch_size=32)\n",
    "# delete the loaded training data to save memory, as the data loader copies\n",
    "del X\n",
    "del y\n"
   ]
  },
  {
   "cell_type": "code",
   "execution_count": 85,
   "id": "bd664c46",
   "metadata": {},
   "outputs": [
    {
     "name": "stdout",
     "output_type": "stream",
     "text": [
      "(10000, 2048)\n"
     ]
    }
   ],
   "source": [
    "TEST_TRIPLETS = 'test_triplets.txt'\n",
    "\n",
    "# repeat for testing data\n",
    "X_test, y_test = get_data(TEST_TRIPLETS, train=False)\n",
    "test_loader = create_loader_from_np(X_test, train = False, batch_size=2048, shuffle=False)\n",
    "del X_test\n",
    "del y_test"
   ]
  },
  {
   "cell_type": "code",
   "execution_count": 91,
   "id": "28634c90281cd699",
   "metadata": {},
   "outputs": [
    {
     "name": "stdout",
     "output_type": "stream",
     "text": [
      "Current epoche:0\n",
      "[1,  1000] loss: 0.693\n",
      "[1,  2000] loss: 0.688\n",
      "[1,  3000] loss: 0.684\n",
      "Current epoche:1\n",
      "[2,  1000] loss: 0.663\n",
      "[2,  2000] loss: 0.630\n",
      "[2,  3000] loss: 0.599\n",
      "Current epoche:2\n",
      "[3,  1000] loss: 0.567\n",
      "[3,  2000] loss: 0.555\n",
      "[3,  3000] loss: 0.556\n",
      "Current epoche:3\n",
      "[4,  1000] loss: 0.542\n",
      "[4,  2000] loss: 0.534\n",
      "[4,  3000] loss: 0.529\n",
      "Current epoche:4\n",
      "[5,  1000] loss: 0.515\n",
      "[5,  2000] loss: 0.518\n",
      "[5,  3000] loss: 0.514\n",
      "Current epoche:5\n",
      "[6,  1000] loss: 0.500\n",
      "[6,  2000] loss: 0.494\n",
      "[6,  3000] loss: 0.502\n",
      "Current epoche:6\n",
      "[7,  1000] loss: 0.484\n",
      "[7,  2000] loss: 0.482\n",
      "[7,  3000] loss: 0.486\n",
      "Current epoche:7\n",
      "[8,  1000] loss: 0.466\n",
      "[8,  2000] loss: 0.473\n",
      "[8,  3000] loss: 0.472\n",
      "Current epoche:8\n",
      "[9,  1000] loss: 0.453\n",
      "[9,  2000] loss: 0.456\n",
      "[9,  3000] loss: 0.452\n",
      "Current epoche:9\n",
      "[10,  1000] loss: 0.438\n",
      "[10,  2000] loss: 0.437\n",
      "[10,  3000] loss: 0.441\n",
      "Current epoche:10\n",
      "[11,  1000] loss: 0.423\n",
      "[11,  2000] loss: 0.431\n",
      "[11,  3000] loss: 0.422\n",
      "Current epoche:11\n",
      "[12,  1000] loss: 0.415\n",
      "[12,  2000] loss: 0.412\n",
      "[12,  3000] loss: 0.411\n",
      "Current epoche:12\n",
      "[13,  1000] loss: 0.395\n",
      "[13,  2000] loss: 0.397\n",
      "[13,  3000] loss: 0.400\n",
      "Current epoche:13\n",
      "[14,  1000] loss: 0.383\n",
      "[14,  2000] loss: 0.380\n",
      "[14,  3000] loss: 0.384\n",
      "Current epoche:14\n",
      "[15,  1000] loss: 0.368\n",
      "[15,  2000] loss: 0.372\n",
      "[15,  3000] loss: 0.366\n"
     ]
    }
   ],
   "source": [
    "\"\"\"\n",
    "The training procedure of the model; it accepts the training data, defines the model \n",
    "and then trains it.\n",
    "\n",
    "input: train_loader: torch.data.util.DataLoader, the object containing the training data\n",
    "    \n",
    "compute: model: torch.nn.Module, the trained model\n",
    "\"\"\"\n",
    "model = Net()\n",
    "model.train()\n",
    "model.to(device)\n",
    "n_epochs = 20\n",
    "\n",
    "criterion = nn.BCELoss()\n",
    "optim = torch.optim.SGD(model.parameters(), lr=0.001,momentum=0.9)\n",
    "\n",
    "# TODO: define a loss function, optimizer and proceed with training. Hint: use the part \n",
    "# of the training data as a validation split. After each epoch, compute the loss on the \n",
    "# validation split and print it out. This enables you to see how your model is performing \n",
    "# on the validation data before submitting the results on the server. After choosing the \n",
    "# best model, train it on the whole training data.\n",
    "for epoch in range(n_epochs):   \n",
    "    print(f'Current epoche:{epoch}')\n",
    "    run_loss = 0\n",
    "    for i, [X, y] in enumerate(train_loader):\n",
    "        X = X.to(device)\n",
    "        y = y.to(device)\n",
    "            \n",
    "        optim.zero_grad()\n",
    "        y_pred=model(X).squeeze().float()\n",
    "        #y_pred=model(X).squeeze()\n",
    "       \n",
    "        #loss=criterion(y_pred,y.double())\n",
    "        loss=criterion(y_pred,y.float())\n",
    "        loss.backward()\n",
    "        optim.step()\n",
    "        \n",
    "        run_loss = run_loss + loss.item()\n",
    "        if i % 1000 == 999:    # print every 1000 mini-batches\n",
    "            print(f'[{epoch + 1}, {i + 1:5d}] loss: {run_loss / 1000:.3f}')\n",
    "            run_loss = 0\n"
   ]
  },
  {
   "cell_type": "code",
   "execution_count": 92,
   "id": "b2ea99b26c348253",
   "metadata": {},
   "outputs": [
    {
     "name": "stdout",
     "output_type": "stream",
     "text": [
      "Results saved to results.txt\n"
     ]
    }
   ],
   "source": [
    "\"\"\"\n",
    "The testing procedure of the model; it accepts the testing data and the trained model and \n",
    "then tests the model on it.\n",
    "\n",
    "input: model: torch.nn.Module, the trained model\n",
    "       loader: torch.data.util.DataLoader, the object containing the testing data\n",
    "        \n",
    "compute: None, the function saves the predictions to a results.txt file\n",
    "\"\"\"\n",
    "model.eval()\n",
    "predictions = []\n",
    "# Iterate over the test data\n",
    "with torch.no_grad(): # We don't need to compute gradients for testing\n",
    "    for [x_batch] in test_loader:\n",
    "        x_batch= x_batch.to(device)\n",
    "        predicted = model(x_batch)\n",
    "        predicted = predicted.cpu().numpy()\n",
    "        # Rounding the predictions to 0 or 1\n",
    "        predicted[predicted >= 0.5] = 1\n",
    "        predicted[predicted < 0.5] = 0\n",
    "        predictions.append(predicted)\n",
    "    predictions = np.vstack(predictions)\n",
    "np.savetxt(\"results.txt\", predictions, fmt='%i')\n",
    "print(\"Results saved to results.txt\")"
   ]
  },
  {
   "cell_type": "code",
   "execution_count": null,
   "id": "bdf7c7f8",
   "metadata": {},
   "outputs": [],
   "source": []
  }
 ],
 "metadata": {
  "kernelspec": {
   "display_name": "Python 3 (ipykernel)",
   "language": "python",
   "name": "python3"
  },
  "language_info": {
   "codemirror_mode": {
    "name": "ipython",
    "version": 3
   },
   "file_extension": ".py",
   "mimetype": "text/x-python",
   "name": "python",
   "nbconvert_exporter": "python",
   "pygments_lexer": "ipython3",
   "version": "3.12.7"
  }
 },
 "nbformat": 4,
 "nbformat_minor": 5
}
